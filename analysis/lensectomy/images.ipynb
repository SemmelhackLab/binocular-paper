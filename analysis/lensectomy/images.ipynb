{
 "cells": [
  {
   "cell_type": "code",
   "execution_count": 1,
   "metadata": {},
   "outputs": [],
   "source": [
    "from pathlib import Path\n",
    "import cv2\n",
    "import numpy as np\n",
    "from mplex import Grid\n",
    "from bino_utils.plotting import add_ocular_condition_symbol"
   ]
  },
  {
   "cell_type": "code",
   "execution_count": 2,
   "metadata": {},
   "outputs": [],
   "source": [
    "data_dir = Path(\"../../data/lensectomy\")\n",
    "out_dir = Path(\"outputs\")\n",
    "out_dir.mkdir(exist_ok=True)\n",
    "fmt = \".pdf\"\n",
    "\n",
    "centers = {\n",
    "    \"le\": (440 + 67j, 440 + 212j),\n",
    "    \"re\": (439 + 20j, 437 + 155j),\n",
    "    \"sham\": (443 + 65j, 441 + 210j),\n",
    "    \"null\": (435 + 73j, 431 + 210j),\n",
    "}\n",
    "\n",
    "w_new, h_new = 144, 144\n",
    "dst = np.array([[w_new / 2, 0], [w_new / 2, h_new], [0, 0]], dtype=np.float32)\n",
    "q0 = 72\n",
    "q1 = 72 + 144j\n",
    "q2 = q0 + (q1 - q0) * 1j\n",
    "q = np.array([(i.real, i.imag) for i in [q0, q1, q2]], dtype=np.float32)"
   ]
  },
  {
   "cell_type": "code",
   "execution_count": null,
   "metadata": {},
   "outputs": [],
   "source": [
    "g = Grid(60, (1, 4), space=8)\n",
    "\n",
    "for ax, (condition, (p0, p1)) in zip(g.axs.ravel(), centers.items()):\n",
    "    im = cv2.imread(str(data_dir / f\"images/{condition}.png\"), cv2.IMREAD_GRAYSCALE)\n",
    "    p2 = p0 + (p1 - p0) * 1j\n",
    "    p = np.array([(i.real, i.imag) for i in [p0, p1, p2]], dtype=np.float32)\n",
    "    M = cv2.getAffineTransform(p, q)\n",
    "    im = cv2.warpAffine(im, M, (w_new, h_new))\n",
    "    ax.imshow(im, vmin=50, vmax=255, cmap=\"gray\")\n",
    "\n",
    "    ax.axis(\"off\")\n",
    "    add_ocular_condition_symbol(condition, ax=ax, delense=True, scale=0.75, ypad=1)\n",
    "\n",
    "if fmt:\n",
    "    g.savefig((out_dir / \"lensectomy_for_each_condition\").with_suffix(fmt), dpi=300)"
   ]
  }
 ],
 "metadata": {
  "kernelspec": {
   "display_name": "binocular-paper",
   "language": "python",
   "name": "python3"
  },
  "language_info": {
   "codemirror_mode": {
    "name": "ipython",
    "version": 3
   },
   "file_extension": ".py",
   "mimetype": "text/x-python",
   "name": "python",
   "nbconvert_exporter": "python",
   "pygments_lexer": "ipython3",
   "version": "3.12.3"
  }
 },
 "nbformat": 4,
 "nbformat_minor": 2
}
