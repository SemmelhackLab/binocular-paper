{
 "cells": [
  {
   "cell_type": "code",
   "execution_count": 1,
   "metadata": {},
   "outputs": [],
   "source": [
    "from pathlib import Path\n",
    "import numpy as np\n",
    "import pandas as pd\n",
    "from mplex.cm import get_transparent_cmap\n",
    "from mplex.colors import change_hsv\n",
    "from mplex.text import set_text_outline\n",
    "from bino_utils.plotting import BrainGrid\n",
    "from bino_utils import Atlas\n",
    "from bg_space_extra import AnatomicalPoints\n",
    "\n",
    "atlas = Atlas()"
   ]
  },
  {
   "cell_type": "code",
   "execution_count": 2,
   "metadata": {},
   "outputs": [],
   "source": [
    "def get_trans_cmap(c, n=256):\n",
    "    from matplotlib.colors import ListedColormap, to_rgb\n",
    "\n",
    "    return ListedColormap(\n",
    "        np.column_stack((np.tile(to_rgb(c), (n, 1)), np.linspace(0, 1, n)))\n",
    "    )"
   ]
  },
  {
   "cell_type": "code",
   "execution_count": 3,
   "metadata": {},
   "outputs": [],
   "source": [
    "data_dir = Path(\"../../data/ocular_types\")\n",
    "out_dir = Path(\"outputs\")\n",
    "fmt = \".pdf\"\n",
    "out_dir.mkdir(exist_ok=True)\n",
    "points = AnatomicalPoints.from_dataframe(pd.read_hdf(data_dir / \"points.h5\"))\n",
    "df_regions = pd.read_hdf(data_dir / \"regions.h5\")"
   ]
  },
  {
   "cell_type": "code",
   "execution_count": 4,
   "metadata": {},
   "outputs": [],
   "source": [
    "regions = (\n",
    "    \"mesencephalon (midbrain)\",\n",
    "    \"prosencephalon (forebrain)\",\n",
    "    \"rhombencephalon (hindbrain)\",\n",
    ")\n",
    "bidx = atlas.is_points_in_structures(points, regions) & ~atlas.is_points_in_structures(\n",
    "    points, \"retina\"\n",
    ")\n",
    "shift = {\n",
    "    \"pretectum (alar prosomere 1)\": (-20, -18),\n",
    "    \"thalamus proper\": (40, 10),\n",
    "    \"tectum\": (-25, 25),\n",
    "    \"nucleus isthmi\": (0, 20),\n",
    "    \"tegmentum (midbrain tegmentum)\": (5, 0),\n",
    "}\n",
    "cmap_retina = get_transparent_cmap(\"gray_r\", \"w\")"
   ]
  },
  {
   "cell_type": "code",
   "execution_count": null,
   "metadata": {},
   "outputs": [],
   "source": [
    "bg = BrainGrid(atlas, w=100, bounds=dict(p=753), space_within=(4, 2))\n",
    "bp = bg[0, 0]\n",
    "bp.add_structures(\"root\", n=1, ec=(0.7,) * 3, zorder=-1000, fc=\"w\")\n",
    "bp.add_structures(\"retina\", method=\"mean\", cmap=cmap_retina, zorder=-10000, vmax=1)\n",
    "bp.scatter(\n",
    "    points[bidx],\n",
    "    rasterized=True,\n",
    "    s=0.5,\n",
    "    alpha=0.1,\n",
    "    color=(0.2,) * 3,\n",
    "    zorder=-100,\n",
    "    marker=\".\",\n",
    "    lw=0,\n",
    ")\n",
    "\n",
    "for i in df_regions.itertuples():\n",
    "    cmap_i = get_trans_cmap(i.color)\n",
    "    bp.add_structures(i.Index, method=\"mean\", cmap=cmap_i, vmin=0, vmax=0.8)\n",
    "    n = 2 if i.Index == \"nucleus isthmi\" else 1\n",
    "    bp.add_structures(i.Index, method=\"max\", ec=change_hsv(i.color), n=n)\n",
    "    xy = np.array((i.zm, i.xm)) + shift.get(i.Index, (0, 0))\n",
    "    bp[\"left\"].add_text(\n",
    "        *xy,\n",
    "        i.acronym,\n",
    "        transform=\"d\",\n",
    "        ha=\"c\",\n",
    "        va=\"c\",\n",
    "        zorder=1e6,\n",
    "        color=change_hsv(i.color, v=0.7),\n",
    "        outline_kwargs=dict(linewidth=1, foreground=\"w\"),\n",
    "        weight=\"bold\",\n",
    "    )\n",
    "\n",
    "ret = bp.add_anatomical_axes(77, 332, 332, 753)\n",
    "\n",
    "ax = bp[\"left\"]\n",
    "ax.plot(\n",
    "    [165 - 50, 165 + 50],\n",
    "    [1.04] * 2,\n",
    "    transform=ax.get_xaxis_transform(),\n",
    "    clip_on=False,\n",
    "    color=\"k\",\n",
    ")\n",
    "\n",
    "ax.add_text(\n",
    "    165,\n",
    "    1.04,\n",
    "    \"100 µm\",\n",
    "    ha=\"c\",\n",
    "    va=\"b\",\n",
    "    fontsize=7,\n",
    "    color=\"k\",\n",
    "    pad=(0, 1),\n",
    "    zorder=1000,\n",
    "    clip_on=False,\n",
    "    transform=ax.get_xaxis_transform(),\n",
    ")\n",
    "set_text_outline(ret[\"front\"][\"ylabel\"])\n",
    "\n",
    "if fmt:\n",
    "    bg.grid.savefig((out_dir / \"imaging_volume\").with_suffix(fmt))"
   ]
  }
 ],
 "metadata": {
  "kernelspec": {
   "display_name": "bino",
   "language": "python",
   "name": "python3"
  },
  "language_info": {
   "codemirror_mode": {
    "name": "ipython",
    "version": 3
   },
   "file_extension": ".py",
   "mimetype": "text/x-python",
   "name": "python",
   "nbconvert_exporter": "python",
   "pygments_lexer": "ipython3",
   "version": "3.12.3"
  }
 },
 "nbformat": 4,
 "nbformat_minor": 2
}
