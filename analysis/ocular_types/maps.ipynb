{
 "cells": [
  {
   "cell_type": "code",
   "execution_count": 1,
   "id": "237ead15-40c5-41c9-9453-a9e15c661f6e",
   "metadata": {},
   "outputs": [],
   "source": [
    "from pathlib import Path\n",
    "import colorcet as cc\n",
    "import numpy as np\n",
    "import pandas as pd\n",
    "from matplotlib.colors import to_hex\n",
    "from bg_space_extra import AnatomicalPoints\n",
    "from mplex.axes_collection import AxArray\n",
    "from bino_utils import Atlas\n",
    "from bino_utils.plotting import BrainGrid, add_ocular_condition_symbol"
   ]
  },
  {
   "cell_type": "code",
   "execution_count": 2,
   "id": "5c3b0ba6",
   "metadata": {},
   "outputs": [],
   "source": [
    "def get_trans_cmap(c, n=256):\n",
    "    from matplotlib.colors import ListedColormap, to_rgb\n",
    "\n",
    "    return ListedColormap(\n",
    "        np.column_stack((np.tile(to_rgb(c), (n, 1)), np.linspace(0, 1, n)))\n",
    "    )"
   ]
  },
  {
   "cell_type": "code",
   "execution_count": 3,
   "id": "5a54dd11",
   "metadata": {},
   "outputs": [],
   "source": [
    "atlas = Atlas()\n",
    "fmt = \".pdf\"\n",
    "out_dir = Path(\"outputs\")\n",
    "out_dir.mkdir(exist_ok=True)\n",
    "data_dir = Path(\"../../data/ocular_types\")"
   ]
  },
  {
   "cell_type": "code",
   "execution_count": 4,
   "id": "ce6258bf-6717-4065-bf94-38ed8450a36c",
   "metadata": {},
   "outputs": [],
   "source": [
    "regions_path = data_dir / \"regions.h5\"\n",
    "\n",
    "if regions_path.exists():\n",
    "    df_regions = pd.read_hdf(regions_path)\n",
    "else:\n",
    "    regions = np.array(\n",
    "        [\n",
    "            \"tectum\",\n",
    "            \"pretectum (alar prosomere 1)\",\n",
    "            \"thalamus proper\",\n",
    "            \"nucleus isthmi\",\n",
    "            \"tegmentum (midbrain tegmentum)\",\n",
    "        ]\n",
    "    )\n",
    "\n",
    "    projs = np.array([atlas.get_masks(i, views=\"left\", method=\"mean\") for i in regions])\n",
    "    max_projs = np.array(\n",
    "        [atlas.get_masks(i, views=\"left\", method=\"mean\") for i in regions]\n",
    "    )\n",
    "\n",
    "    df_regions = pd.DataFrame(\n",
    "        dict(\n",
    "            z=projs.sum(1) / projs.sum((1, 2))[..., None] @ np.arange(projs.shape[2]),\n",
    "            x=projs.sum(2) / projs.sum((1, 2))[..., None] @ np.arange(projs.shape[1]),\n",
    "            zm=max_projs.sum(1)\n",
    "            / max_projs.sum((1, 2))[..., None]\n",
    "            @ np.arange(max_projs.shape[2]),\n",
    "            xm=max_projs.sum(2)\n",
    "            / max_projs.sum((1, 2))[..., None]\n",
    "            @ np.arange(max_projs.shape[1]),\n",
    "            acronym=[\"OT\", \"Pt\", \"Thal\", \"NI\", \"Teg\"],\n",
    "            color=[to_hex(i) for i in np.array(cc.glasbey_hv)[[0, 1, 2, 3, 6]]],\n",
    "            n_voxels=[np.array(atlas.get_structures_stack(i)).sum() for i in regions],\n",
    "        ),\n",
    "        index=regions,\n",
    "    )\n",
    "\n",
    "    df_regions.to_hdf(regions_path, \"data\")"
   ]
  },
  {
   "cell_type": "code",
   "execution_count": 5,
   "id": "23fb1e77-e781-4f5a-a541-515358db8b19",
   "metadata": {},
   "outputs": [],
   "source": [
    "df_pval = pd.read_hdf(data_dir / \"pval.h5\")\n",
    "df_r2 = pd.read_hdf(data_dir / \"r2.h5\")\n",
    "points = AnatomicalPoints(\"sal\", pd.read_hdf(data_dir / \"points.h5\"))"
   ]
  },
  {
   "cell_type": "code",
   "execution_count": 6,
   "id": "c0f0b260-dbdc-4e0f-a65c-0873ab28316a",
   "metadata": {},
   "outputs": [],
   "source": [
    "df_pval.loc[(points[\"a\"] < 560) & (np.abs(points[\"l\"] - atlas.midline) < 10), \"I\"] = (\n",
    "    np.nan\n",
    ")"
   ]
  },
  {
   "cell_type": "code",
   "execution_count": 7,
   "id": "a82ec75c-e570-42de-8742-c7f5a55edcea",
   "metadata": {},
   "outputs": [],
   "source": [
    "bounds = dict(a=220, p=560, i=234)\n",
    "alpha = 0.025"
   ]
  },
  {
   "cell_type": "code",
   "execution_count": 8,
   "id": "b7ce8033-d4d0-4b27-83a4-ec627315b86e",
   "metadata": {},
   "outputs": [],
   "source": [
    "n_fish = len(df_r2[\"fish_id\"].unique())\n",
    "\n",
    "regions = df_regions.index.values\n",
    "df_counts = pd.DataFrame(\n",
    "    [\n",
    "        [\n",
    "            (atlas.is_points_in_structures(points, i) & df_pval[c].lt(alpha)).sum()\n",
    "            / n_fish\n",
    "            for i in regions\n",
    "        ]\n",
    "        for c in \"lrb0BIC\"\n",
    "    ],\n",
    "    columns=regions,\n",
    "    index=list(\"lrb0BIC\"),\n",
    ")\n",
    "\n",
    "df_density = df_counts / (df_regions[\"n_voxels\"] / 1000000)"
   ]
  },
  {
   "cell_type": "code",
   "execution_count": 9,
   "id": "49772c45-5d59-4bf1-a194-5db2ca36a9db",
   "metadata": {},
   "outputs": [],
   "source": [
    "cmap = \"magma_r\"\n",
    "vmin = 0.3\n",
    "vmax = 0.9"
   ]
  },
  {
   "cell_type": "code",
   "execution_count": null,
   "id": "6c8c8c02-c587-44b7-80f9-bf768807b0b3",
   "metadata": {},
   "outputs": [],
   "source": [
    "for conditions in (\"lrb\", \"CB\", \"I\"):\n",
    "    bg = BrainGrid(\n",
    "        atlas,\n",
    "        (1, len(conditions)),\n",
    "        w=130,\n",
    "        bounds=bounds,\n",
    "        space_within=5,\n",
    "        space_across=20,\n",
    "    )\n",
    "    bg.add_structures(\"root\", n=1, sigma=5, alpha=0.05, fc=\"k\")\n",
    "\n",
    "    for j, condition in enumerate(conditions):\n",
    "        bp = bg.brain_plots.ravel()[j]\n",
    "        sel = df_pval[condition].lt(alpha)\n",
    "        bp.scatter_values(\n",
    "            points[sel],\n",
    "            df_r2.loc[sel, condition].values,\n",
    "            mode=\"csort\",\n",
    "            cmap=cmap,\n",
    "            vmin=vmin,\n",
    "            vmax=vmax,\n",
    "            rasterized=True,\n",
    "        )\n",
    "        ax = AxArray(bp.axes_dict.values()).make_ax()\n",
    "        add_ocular_condition_symbol(condition, ax=ax, scale=0.8)\n",
    "\n",
    "        ax = AxArray(bp.empty).add_axes((35, 35), loc0=\"lt\", loc1=\"lt\", pad=(5, 0))\n",
    "        ax.barh(\n",
    "            range(len(df_regions)), df_counts.loc[condition], color=df_regions[\"color\"]\n",
    "        )\n",
    "\n",
    "        ax.set_yticks(np.arange(len(df_regions)), labels=df_regions[\"acronym\"])\n",
    "        ax.tick_params(\"y\", length=0, pad=1)\n",
    "        ax.set_xmargin(0)\n",
    "\n",
    "        for side in (\"right\", \"top\", \"left\"):\n",
    "            ax.spines[side].set_visible(False)\n",
    "\n",
    "        ax.set_xlabel(\"Neurons per fish\", size=6, labelpad=0)\n",
    "        ax.invert_yaxis()\n",
    "\n",
    "    cb = bg.grid.add_colorbar(\n",
    "        vmin, vmax, cmap, loc0=\"rb\", loc1=\"lb\", length=20, thick=4, pad=2\n",
    "    )\n",
    "    cb.set_ticks([vmin, vmax], labels=[vmin, vmax])\n",
    "    cb.ax.set_title(\"  R$^2$\", pad=1, size=7)\n",
    "\n",
    "    if fmt:\n",
    "        bg.grid.savefig((out_dir / f\"{conditions.lower()}\").with_suffix(fmt))"
   ]
  },
  {
   "cell_type": "code",
   "execution_count": null,
   "id": "59d184ac",
   "metadata": {},
   "outputs": [],
   "source": [
    "is_responsive = df_pval.lt(alpha)\n",
    "is_responsive[\"fish_id\"] = df_r2[\"fish_id\"]\n",
    "is_responsive[\"prn\"] = is_responsive[[\"l\", \"r\", \"b\"]].max(1)\n",
    "is_responsive = is_responsive[[\"fish_id\", \"I\", \"C\", \"B\", \"prn\"]]\n",
    "is_responsive.columns = [\"fish_id\", \"ipsi\", \"contra\", \"bino\", \"prn\"]\n",
    "is_responsive.groupby(\"fish_id\").sum()"
   ]
  },
  {
   "cell_type": "code",
   "execution_count": null,
   "id": "946aa55d",
   "metadata": {},
   "outputs": [],
   "source": [
    "is_responsive.groupby(\"fish_id\").sum().std(0)"
   ]
  }
 ],
 "metadata": {
  "kernelspec": {
   "display_name": "bino",
   "language": "python",
   "name": "python3"
  },
  "language_info": {
   "codemirror_mode": {
    "name": "ipython",
    "version": 3
   },
   "file_extension": ".py",
   "mimetype": "text/x-python",
   "name": "python",
   "nbconvert_exporter": "python",
   "pygments_lexer": "ipython3",
   "version": "3.12.3"
  }
 },
 "nbformat": 4,
 "nbformat_minor": 5
}
